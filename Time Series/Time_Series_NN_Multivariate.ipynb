{
  "nbformat": 4,
  "nbformat_minor": 0,
  "metadata": {
    "colab": {
      "name": "Copy of Time Series NN Multivariate - EXB.ipynb",
      "provenance": [],
      "collapsed_sections": [],
      "toc_visible": true
    },
    "kernelspec": {
      "name": "python3",
      "display_name": "Python 3"
    }
  },
  "cells": [
    {
      "cell_type": "markdown",
      "metadata": {
        "id": "dZIrG2jhp6Cr",
        "colab_type": "text"
      },
      "source": [
        "# Predicción de Series Temporales NN - Multivariante\n",
        "**Importamos librería Keras y Tensorflow**\n"
      ]
    },
    {
      "cell_type": "code",
      "metadata": {
        "id": "-lV4VDPp46uw",
        "colab_type": "code",
        "colab": {
          "base_uri": "https://localhost:8080/",
          "height": 212
        },
        "outputId": "d0b94d54-7643-4ced-dfcc-5eadee2872af"
      },
      "source": [
        "from pandas import DataFrame\n",
        "df = DataFrame()\n",
        "df['t'] = [x for x in range(10)]\n",
        "print(df)"
      ],
      "execution_count": null,
      "outputs": [
        {
          "output_type": "stream",
          "text": [
            "   t\n",
            "0  0\n",
            "1  1\n",
            "2  2\n",
            "3  3\n",
            "4  4\n",
            "5  5\n",
            "6  6\n",
            "7  7\n",
            "8  8\n",
            "9  9\n"
          ],
          "name": "stdout"
        }
      ]
    },
    {
      "cell_type": "code",
      "metadata": {
        "id": "erzvQIsJMyuU",
        "colab_type": "code",
        "colab": {
          "base_uri": "https://localhost:8080/",
          "height": 212
        },
        "outputId": "0a1702c0-cfcb-4976-fadc-4d7f702c6a32"
      },
      "source": [
        "df = DataFrame()\n",
        "df['t'] = [x for x in range(10)]\n",
        "df['t-1'] = df['t'].shift(1)\n",
        "print(df)"
      ],
      "execution_count": null,
      "outputs": [
        {
          "output_type": "stream",
          "text": [
            "   t  t-1\n",
            "0  0  NaN\n",
            "1  1  0.0\n",
            "2  2  1.0\n",
            "3  3  2.0\n",
            "4  4  3.0\n",
            "5  5  4.0\n",
            "6  6  5.0\n",
            "7  7  6.0\n",
            "8  8  7.0\n",
            "9  9  8.0\n"
          ],
          "name": "stdout"
        }
      ]
    },
    {
      "cell_type": "code",
      "metadata": {
        "id": "Kr5nG0H2Nu_S",
        "colab_type": "code",
        "colab": {
          "base_uri": "https://localhost:8080/",
          "height": 212
        },
        "outputId": "2031c496-275c-417a-b8d2-ffc1bbb40779"
      },
      "source": [
        "df = DataFrame()\n",
        "df['t'] = [x for x in range(10)]\n",
        "df['t+1'] = df['t'].shift(-1)\n",
        "print(df)"
      ],
      "execution_count": null,
      "outputs": [
        {
          "output_type": "stream",
          "text": [
            "   t  t+1\n",
            "0  0  1.0\n",
            "1  1  2.0\n",
            "2  2  3.0\n",
            "3  3  4.0\n",
            "4  4  5.0\n",
            "5  5  6.0\n",
            "6  6  7.0\n",
            "7  7  8.0\n",
            "8  8  9.0\n",
            "9  9  NaN\n"
          ],
          "name": "stdout"
        }
      ]
    },
    {
      "cell_type": "code",
      "metadata": {
        "id": "BgC0XwcMQKhC",
        "colab_type": "code",
        "colab": {
          "base_uri": "https://localhost:8080/",
          "height": 194
        },
        "outputId": "8abae32e-136f-4a59-aee0-2531f91e22dd"
      },
      "source": [
        "from pandas import DataFrame\n",
        "from pandas import concat\n",
        "\n",
        "def series_to_supervised(data, n_in=1, n_out=1, dropnan=True):\n",
        "\t\"\"\"\n",
        "\tFrame a time series as a supervised learning dataset.\n",
        "\tArguments:\n",
        "\t\tdata: Sequence of observations as a list or NumPy array.\n",
        "\t\tn_in: Number of lag observations as input (X).\n",
        "\t\tn_out: Number of observations as output (y).\n",
        "\t\tdropnan: Boolean whether or not to drop rows with NaN values.\n",
        "\tReturns:\n",
        "\t\tPandas DataFrame of series framed for supervised learning.\n",
        "\t\"\"\"\n",
        "\tn_vars = 1 if type(data) is list else data.shape[1]\n",
        "\tdf = DataFrame(data)\n",
        "\tcols, names = list(), list()\n",
        "\t# input sequence (t-n, ... t-1)\n",
        "\tfor i in range(n_in, 0, -1):\n",
        "\t\tcols.append(df.shift(i))\n",
        "\t\tnames += [('var%d(t-%d)' % (j+1, i)) for j in range(n_vars)]\n",
        "\t# forecast sequence (t, t+1, ... t+n)\n",
        "\tfor i in range(0, n_out):\n",
        "\t\tcols.append(df.shift(-i))\n",
        "\t\tif i == 0:\n",
        "\t\t\tnames += [('var%d(t)' % (j+1)) for j in range(n_vars)]\n",
        "\t\telse:\n",
        "\t\t\tnames += [('var%d(t+%d)' % (j+1, i)) for j in range(n_vars)]\n",
        "\t# put it all together\n",
        "\tagg = concat(cols, axis=1)\n",
        "\tagg.columns = names\n",
        "\t# drop rows with NaN values\n",
        "\tif dropnan:\n",
        "\t\tagg.dropna(inplace=True)\n",
        "\treturn agg\n",
        "\n",
        "\n",
        "values = [x for x in range(10)]\n",
        "data = series_to_supervised(values)\n",
        "print(data)"
      ],
      "execution_count": null,
      "outputs": [
        {
          "output_type": "stream",
          "text": [
            "   var1(t-1)  var1(t)\n",
            "1        0.0        1\n",
            "2        1.0        2\n",
            "3        2.0        3\n",
            "4        3.0        4\n",
            "5        4.0        5\n",
            "6        5.0        6\n",
            "7        6.0        7\n",
            "8        7.0        8\n",
            "9        8.0        9\n"
          ],
          "name": "stdout"
        }
      ]
    },
    {
      "cell_type": "code",
      "metadata": {
        "id": "_0wSU3KfR5z6",
        "colab_type": "code",
        "colab": {
          "base_uri": "https://localhost:8080/",
          "height": 158
        },
        "outputId": "f66907e2-1077-4503-c204-c5338e655d4d"
      },
      "source": [
        "def series_to_supervised(data, n_in=1, n_out=1, dropnan=True):\n",
        "\t\"\"\"\n",
        "\tFrame a time series as a supervised learning dataset.\n",
        "\tArguments:\n",
        "\t\tdata: Sequence of observations as a list or NumPy array.\n",
        "\t\tn_in: Number of lag observations as input (X).\n",
        "\t\tn_out: Number of observations as output (y).\n",
        "\t\tdropnan: Boolean whether or not to drop rows with NaN values.\n",
        "\tReturns:\n",
        "\t\tPandas DataFrame of series framed for supervised learning.\n",
        "\t\"\"\"\n",
        "\tn_vars = 1 if type(data) is list else data.shape[1]\n",
        "\tdf = DataFrame(data)\n",
        "\tcols, names = list(), list()\n",
        "\t# input sequence (t-n, ... t-1)\n",
        "\tfor i in range(n_in, 0, -1):\n",
        "\t\tcols.append(df.shift(i))\n",
        "\t\tnames += [('var%d(t-%d)' % (j+1, i)) for j in range(n_vars)]\n",
        "\t# forecast sequence (t, t+1, ... t+n)\n",
        "\tfor i in range(0, n_out):\n",
        "\t\tcols.append(df.shift(-i))\n",
        "\t\tif i == 0:\n",
        "\t\t\tnames += [('var%d(t)' % (j+1)) for j in range(n_vars)]\n",
        "\t\telse:\n",
        "\t\t\tnames += [('var%d(t+%d)' % (j+1, i)) for j in range(n_vars)]\n",
        "\t# put it all together\n",
        "\tagg = concat(cols, axis=1)\n",
        "\tagg.columns = names\n",
        "\t# drop rows with NaN values\n",
        "\tif dropnan:\n",
        "\t\tagg.dropna(inplace=True)\n",
        "\treturn agg\n",
        " \n",
        " \n",
        "values = [x for x in range(10)]\n",
        "data = series_to_supervised(values, 3)\n",
        "print(data)"
      ],
      "execution_count": null,
      "outputs": [
        {
          "output_type": "stream",
          "text": [
            "   var1(t-3)  var1(t-2)  var1(t-1)  var1(t)\n",
            "3        0.0        1.0        2.0        3\n",
            "4        1.0        2.0        3.0        4\n",
            "5        2.0        3.0        4.0        5\n",
            "6        3.0        4.0        5.0        6\n",
            "7        4.0        5.0        6.0        7\n",
            "8        5.0        6.0        7.0        8\n",
            "9        6.0        7.0        8.0        9\n"
          ],
          "name": "stdout"
        }
      ]
    },
    {
      "cell_type": "code",
      "metadata": {
        "id": "JnTIkB6nDsYY",
        "colab_type": "code",
        "colab": {
          "base_uri": "https://localhost:8080/",
          "height": 141
        },
        "outputId": "ad865040-513a-4dc1-b0d4-cae7f5957971"
      },
      "source": [
        "from pandas import read_csv\n",
        "from datetime import datetime\n",
        "# load data\n",
        "def parse(x):\n",
        "\treturn datetime.strptime(x, '%Y %m %d %H')\n",
        "dataset = read_csv('https://raw.githubusercontent.com/jbrownlee/Datasets/master/pollution.csv',  parse_dates = [['year', 'month', 'day', 'hour']], index_col=0, date_parser=parse)\n",
        "dataset.drop('No', axis=1, inplace=True)\n",
        "# manually specify column names\n",
        "dataset.columns = ['pollution', 'dew', 'temp', 'press', 'wnd_dir', 'wnd_spd', 'snow', 'rain']\n",
        "dataset.index.name = 'date'\n",
        "# mark all NA values with 0\n",
        "dataset['pollution'].fillna(0, inplace=True)\n",
        "# drop the first 24 hours\n",
        "dataset = dataset[24:]\n",
        "# summarize first 5 rows\n",
        "print(dataset.head(5))\n",
        "# save to file\n",
        "dataset.to_csv('pollution.csv')"
      ],
      "execution_count": null,
      "outputs": [
        {
          "output_type": "stream",
          "text": [
            "                     pollution  dew  temp   press wnd_dir  wnd_spd  snow  rain\n",
            "date                                                                          \n",
            "2010-01-02 00:00:00      129.0  -16  -4.0  1020.0      SE     1.79     0     0\n",
            "2010-01-02 01:00:00      148.0  -15  -4.0  1020.0      SE     2.68     0     0\n",
            "2010-01-02 02:00:00      159.0  -11  -5.0  1021.0      SE     3.57     0     0\n",
            "2010-01-02 03:00:00      181.0   -7  -5.0  1022.0      SE     5.36     1     0\n",
            "2010-01-02 04:00:00      138.0   -7  -5.0  1022.0      SE     6.25     2     0\n"
          ],
          "name": "stdout"
        }
      ]
    },
    {
      "cell_type": "code",
      "metadata": {
        "id": "EVv9d9kmD-BV",
        "colab_type": "code",
        "colab": {
          "base_uri": "https://localhost:8080/",
          "height": 267
        },
        "outputId": "e177d4d9-8bd3-459f-ca58-a8f20f3e8c6a"
      },
      "source": [
        "from pandas import read_csv\n",
        "from matplotlib import pyplot\n",
        "# load dataset\n",
        "dataset = read_csv('pollution.csv', header=0, index_col=0)\n",
        "values = dataset.values\n",
        "# specify columns to plot\n",
        "groups = [0, 1, 2, 3, 5, 6, 7]\n",
        "i = 1\n",
        "# plot each column\n",
        "pyplot.figure()\n",
        "for group in groups:\n",
        "\tpyplot.subplot(len(groups), 1, i)\n",
        "\tpyplot.plot(values[:, group])\n",
        "\tpyplot.title(dataset.columns[group], y=0.5, loc='right')\n",
        "\ti += 1\n",
        "pyplot.show()"
      ],
      "execution_count": null,
      "outputs": [
        {
          "output_type": "display_data",
          "data": {
            "image/png": "[encoded data removed]",
            "text/plain": [
              "<Figure size 432x288 with 7 Axes>"
            ]
          },
          "metadata": {
            "tags": []
          }
        }
      ]
    },
    {
      "cell_type": "code",
      "metadata": {
        "id": "NE4VBqxlFdT7",
        "colab_type": "code",
        "colab": {
          "base_uri": "https://localhost:8080/",
          "height": 1000
        },
        "outputId": "4b9cf73b-9e74-433e-9237-5cb41063b7e8"
      },
      "source": [
        "from math import sqrt\n",
        "from numpy import concatenate\n",
        "from matplotlib import pyplot\n",
        "from pandas import read_csv\n",
        "from pandas import DataFrame\n",
        "from pandas import concat\n",
        "from sklearn.preprocessing import MinMaxScaler\n",
        "from sklearn.preprocessing import LabelEncoder\n",
        "from sklearn.metrics import mean_squared_error\n",
        "from keras.models import Sequential\n",
        "from keras.layers import Dense\n",
        "from keras.layers import LSTM\n",
        " \n",
        "# convert series to supervised learning\n",
        "def series_to_supervised(data, n_in=1, n_out=1, dropnan=True):\n",
        "\tn_vars = 1 if type(data) is list else data.shape[1]\n",
        "\tdf = DataFrame(data)\n",
        "\tcols, names = list(), list()\n",
        "\t# input sequence (t-n, ... t-1)\n",
        "\tfor i in range(n_in, 0, -1):\n",
        "\t\tcols.append(df.shift(i))\n",
        "\t\tnames += [('var%d(t-%d)' % (j+1, i)) for j in range(n_vars)]\n",
        "\t# forecast sequence (t, t+1, ... t+n)\n",
        "\tfor i in range(0, n_out):\n",
        "\t\tcols.append(df.shift(-i))\n",
        "\t\tif i == 0:\n",
        "\t\t\tnames += [('var%d(t)' % (j+1)) for j in range(n_vars)]\n",
        "\t\telse:\n",
        "\t\t\tnames += [('var%d(t+%d)' % (j+1, i)) for j in range(n_vars)]\n",
        "\t# put it all together\n",
        "\tagg = concat(cols, axis=1)\n",
        "\tagg.columns = names\n",
        "\t# drop rows with NaN values\n",
        "\tif dropnan:\n",
        "\t\tagg.dropna(inplace=True)\n",
        "\treturn agg\n",
        " \n",
        "# load dataset\n",
        "dataset = read_csv('pollution.csv', header=0, index_col=0)\n",
        "values = dataset.values\n",
        "# integer encode direction\n",
        "encoder = LabelEncoder()\n",
        "values[:,4] = encoder.fit_transform(values[:,4])\n",
        "# ensure all data is float\n",
        "values = values.astype('float32')\n",
        "# normalize features\n",
        "scaler = MinMaxScaler(feature_range=(0, 1))\n",
        "scaled = scaler.fit_transform(values)\n",
        "# frame as supervised learning\n",
        "reframed = series_to_supervised(scaled, 1, 1)\n",
        "# drop columns we don't want to predict\n",
        "reframed.drop(reframed.columns[[9,10,11,12,13,14,15]], axis=1, inplace=True)\n",
        "print(reframed.head())\n",
        " \n",
        "# split into train and test sets\n",
        "values = reframed.values\n",
        "n_train_hours = 365 * 24\n",
        "train = values[:n_train_hours, :]\n",
        "test = values[n_train_hours:, :]\n",
        "# split into input and outputs\n",
        "train_X, train_y = train[:, :-1], train[:, -1]\n",
        "test_X, test_y = test[:, :-1], test[:, -1]\n",
        "# reshape input to be 3D [samples, timesteps, features]\n",
        "train_X = train_X.reshape((train_X.shape[0], 1, train_X.shape[1]))\n",
        "test_X = test_X.reshape((test_X.shape[0], 1, test_X.shape[1]))\n",
        "print(train_X.shape, train_y.shape, test_X.shape, test_y.shape)\n",
        " \n",
        "# design network\n",
        "model = Sequential()\n",
        "model.add(LSTM(50, input_shape=(train_X.shape[1], train_X.shape[2])))\n",
        "model.add(Dense(1))\n",
        "model.compile(loss='mae', optimizer='adam')\n",
        "# fit network\n",
        "history = model.fit(train_X, train_y, epochs=50, batch_size=72, validation_data=(test_X, test_y), verbose=2, shuffle=False)\n",
        "# plot history\n",
        "pyplot.plot(history.history['loss'], label='train')\n",
        "pyplot.plot(history.history['val_loss'], label='test')\n",
        "pyplot.legend()\n",
        "pyplot.show()\n",
        " \n",
        "# make a prediction\n",
        "yhat = model.predict(test_X)\n",
        "test_X = test_X.reshape((test_X.shape[0], test_X.shape[2]))\n",
        "# invert scaling for forecast\n",
        "inv_yhat = concatenate((yhat, test_X[:, 1:]), axis=1)\n",
        "inv_yhat = scaler.inverse_transform(inv_yhat)\n",
        "inv_yhat = inv_yhat[:,0]\n",
        "# invert scaling for actual\n",
        "test_y = test_y.reshape((len(test_y), 1))\n",
        "inv_y = concatenate((test_y, test_X[:, 1:]), axis=1)\n",
        "inv_y = scaler.inverse_transform(inv_y)\n",
        "inv_y = inv_y[:,0]\n",
        "# calculate RMSE\n",
        "rmse = sqrt(mean_squared_error(inv_y, inv_yhat))\n",
        "print('Test RMSE: %.3f' % rmse)"
      ],
      "execution_count": null,
      "outputs": [
        {
          "output_type": "stream",
          "text": [
            "Using TensorFlow backend.\n"
          ],
          "name": "stderr"
        },
        {
          "output_type": "display_data",
          "data": {
            "text/html": [
              "<p style=\"color: red;\">\n",
              "The default version of TensorFlow in Colab will soon switch to TensorFlow 2.x.<br>\n",
              "We recommend you <a href=\"https://www.tensorflow.org/guide/migrate\" target=\"_blank\">upgrade</a> now \n",
              "or ensure your notebook will continue to use TensorFlow 1.x via the <code>%tensorflow_version 1.x</code> magic:\n",
              "<a href=\"https://colab.research.google.com/notebooks/tensorflow_version.ipynb\" target=\"_blank\">more info</a>.</p>\n"
            ],
            "text/plain": [
              "<IPython.core.display.HTML object>"
            ]
          },
          "metadata": {
            "tags": []
          }
        },
        {
          "output_type": "stream",
          "text": [
            "   var1(t-1)  var2(t-1)  var3(t-1)  ...  var7(t-1)  var8(t-1)   var1(t)\n",
            "1   0.129779   0.352941   0.245902  ...   0.000000        0.0  0.148893\n",
            "2   0.148893   0.367647   0.245902  ...   0.000000        0.0  0.159960\n",
            "3   0.159960   0.426471   0.229508  ...   0.000000        0.0  0.182093\n",
            "4   0.182093   0.485294   0.229508  ...   0.037037        0.0  0.138833\n",
            "5   0.138833   0.485294   0.229508  ...   0.074074        0.0  0.109658\n",
            "\n",
            "[5 rows x 9 columns]\n",
            "(8760, 1, 8) (8760,) (35039, 1, 8) (35039,)\n",
            "WARNING:tensorflow:From /usr/local/lib/python3.6/dist-packages/keras/backend/tensorflow_backend.py:66: The name tf.get_default_graph is deprecated. Please use tf.compat.v1.get_default_graph instead.\n",
            "\n",
            "WARNING:tensorflow:From /usr/local/lib/python3.6/dist-packages/keras/backend/tensorflow_backend.py:541: The name tf.placeholder is deprecated. Please use tf.compat.v1.placeholder instead.\n",
            "\n",
            "WARNING:tensorflow:From /usr/local/lib/python3.6/dist-packages/keras/backend/tensorflow_backend.py:4432: The name tf.random_uniform is deprecated. Please use tf.random.uniform instead.\n",
            "\n",
            "WARNING:tensorflow:From /usr/local/lib/python3.6/dist-packages/keras/optimizers.py:793: The name tf.train.Optimizer is deprecated. Please use tf.compat.v1.train.Optimizer instead.\n",
            "\n",
            "WARNING:tensorflow:From /usr/local/lib/python3.6/dist-packages/tensorflow_core/python/ops/math_grad.py:1424: where (from tensorflow.python.ops.array_ops) is deprecated and will be removed in a future version.\n",
            "Instructions for updating:\n",
            "Use tf.where in 2.0, which has the same broadcast rule as np.where\n",
            "WARNING:tensorflow:From /usr/local/lib/python3.6/dist-packages/keras/backend/tensorflow_backend.py:1033: The name tf.assign_add is deprecated. Please use tf.compat.v1.assign_add instead.\n",
            "\n",
            "WARNING:tensorflow:From /usr/local/lib/python3.6/dist-packages/keras/backend/tensorflow_backend.py:1020: The name tf.assign is deprecated. Please use tf.compat.v1.assign instead.\n",
            "\n",
            "WARNING:tensorflow:From /usr/local/lib/python3.6/dist-packages/keras/backend/tensorflow_backend.py:3005: The name tf.Session is deprecated. Please use tf.compat.v1.Session instead.\n",
            "\n",
            "Train on 8760 samples, validate on 35039 samples\n",
            "Epoch 1/50\n",
            "WARNING:tensorflow:From /usr/local/lib/python3.6/dist-packages/keras/backend/tensorflow_backend.py:190: The name tf.get_default_session is deprecated. Please use tf.compat.v1.get_default_session instead.\n",
            "\n",
            "WARNING:tensorflow:From /usr/local/lib/python3.6/dist-packages/keras/backend/tensorflow_backend.py:197: The name tf.ConfigProto is deprecated. Please use tf.compat.v1.ConfigProto instead.\n",
            "\n",
            "WARNING:tensorflow:From /usr/local/lib/python3.6/dist-packages/keras/backend/tensorflow_backend.py:207: The name tf.global_variables is deprecated. Please use tf.compat.v1.global_variables instead.\n",
            "\n",
            "WARNING:tensorflow:From /usr/local/lib/python3.6/dist-packages/keras/backend/tensorflow_backend.py:216: The name tf.is_variable_initialized is deprecated. Please use tf.compat.v1.is_variable_initialized instead.\n",
            "\n",
            "WARNING:tensorflow:From /usr/local/lib/python3.6/dist-packages/keras/backend/tensorflow_backend.py:223: The name tf.variables_initializer is deprecated. Please use tf.compat.v1.variables_initializer instead.\n",
            "\n",
            " - 2s - loss: 0.0577 - val_loss: 0.0623\n",
            "Epoch 2/50\n",
            " - 1s - loss: 0.0410 - val_loss: 0.0653\n",
            "Epoch 3/50\n",
            " - 1s - loss: 0.0256 - val_loss: 0.0544\n",
            "Epoch 4/50\n",
            " - 1s - loss: 0.0198 - val_loss: 0.0477\n",
            "Epoch 5/50\n",
            " - 1s - loss: 0.0175 - val_loss: 0.0400\n",
            "Epoch 6/50\n",
            " - 1s - loss: 0.0161 - val_loss: 0.0296\n",
            "Epoch 7/50\n",
            " - 1s - loss: 0.0152 - val_loss: 0.0204\n",
            "Epoch 8/50\n",
            " - 1s - loss: 0.0150 - val_loss: 0.0189\n",
            "Epoch 9/50\n",
            " - 1s - loss: 0.0149 - val_loss: 0.0174\n",
            "Epoch 10/50\n",
            " - 1s - loss: 0.0148 - val_loss: 0.0163\n",
            "Epoch 11/50\n",
            " - 1s - loss: 0.0147 - val_loss: 0.0158\n",
            "Epoch 12/50\n",
            " - 1s - loss: 0.0147 - val_loss: 0.0156\n",
            "Epoch 13/50\n",
            " - 1s - loss: 0.0147 - val_loss: 0.0155\n",
            "Epoch 14/50\n",
            " - 1s - loss: 0.0146 - val_loss: 0.0148\n",
            "Epoch 15/50\n",
            " - 1s - loss: 0.0146 - val_loss: 0.0145\n",
            "Epoch 16/50\n",
            " - 1s - loss: 0.0146 - val_loss: 0.0145\n",
            "Epoch 17/50\n",
            " - 1s - loss: 0.0146 - val_loss: 0.0142\n",
            "Epoch 18/50\n",
            " - 1s - loss: 0.0146 - val_loss: 0.0143\n",
            "Epoch 19/50\n",
            " - 1s - loss: 0.0146 - val_loss: 0.0141\n",
            "Epoch 20/50\n",
            " - 1s - loss: 0.0145 - val_loss: 0.0141\n",
            "Epoch 21/50\n",
            " - 1s - loss: 0.0145 - val_loss: 0.0138\n",
            "Epoch 22/50\n",
            " - 1s - loss: 0.0145 - val_loss: 0.0139\n",
            "Epoch 23/50\n",
            " - 1s - loss: 0.0145 - val_loss: 0.0141\n",
            "Epoch 24/50\n",
            " - 1s - loss: 0.0147 - val_loss: 0.0139\n",
            "Epoch 25/50\n",
            " - 1s - loss: 0.0144 - val_loss: 0.0137\n",
            "Epoch 26/50\n",
            " - 1s - loss: 0.0144 - val_loss: 0.0137\n",
            "Epoch 27/50\n",
            " - 1s - loss: 0.0144 - val_loss: 0.0136\n",
            "Epoch 28/50\n",
            " - 1s - loss: 0.0145 - val_loss: 0.0137\n",
            "Epoch 29/50\n",
            " - 1s - loss: 0.0144 - val_loss: 0.0136\n",
            "Epoch 30/50\n",
            " - 1s - loss: 0.0144 - val_loss: 0.0137\n",
            "Epoch 31/50\n",
            " - 1s - loss: 0.0144 - val_loss: 0.0137\n",
            "Epoch 32/50\n",
            " - 1s - loss: 0.0144 - val_loss: 0.0136\n",
            "Epoch 33/50\n",
            " - 1s - loss: 0.0145 - val_loss: 0.0136\n",
            "Epoch 34/50\n",
            " - 1s - loss: 0.0144 - val_loss: 0.0137\n",
            "Epoch 35/50\n",
            " - 1s - loss: 0.0144 - val_loss: 0.0137\n",
            "Epoch 36/50\n",
            " - 1s - loss: 0.0144 - val_loss: 0.0135\n",
            "Epoch 37/50\n",
            " - 1s - loss: 0.0145 - val_loss: 0.0136\n",
            "Epoch 38/50\n",
            " - 1s - loss: 0.0143 - val_loss: 0.0137\n",
            "Epoch 39/50\n",
            " - 1s - loss: 0.0144 - val_loss: 0.0135\n",
            "Epoch 40/50\n",
            " - 1s - loss: 0.0144 - val_loss: 0.0136\n",
            "Epoch 41/50\n",
            " - 1s - loss: 0.0144 - val_loss: 0.0135\n",
            "Epoch 42/50\n",
            " - 1s - loss: 0.0144 - val_loss: 0.0136\n",
            "Epoch 43/50\n",
            " - 1s - loss: 0.0144 - val_loss: 0.0135\n",
            "Epoch 44/50\n",
            " - 1s - loss: 0.0143 - val_loss: 0.0136\n",
            "Epoch 45/50\n",
            " - 1s - loss: 0.0144 - val_loss: 0.0135\n",
            "Epoch 46/50\n",
            " - 1s - loss: 0.0144 - val_loss: 0.0135\n",
            "Epoch 47/50\n",
            " - 1s - loss: 0.0144 - val_loss: 0.0135\n",
            "Epoch 48/50\n",
            " - 1s - loss: 0.0144 - val_loss: 0.0135\n",
            "Epoch 49/50\n",
            " - 1s - loss: 0.0144 - val_loss: 0.0134\n",
            "Epoch 50/50\n",
            " - 1s - loss: 0.0144 - val_loss: 0.0135\n"
          ],
          "name": "stdout"
        },
        {
          "output_type": "display_data",
          "data": {
            "image/png": "[encoded data removed]",
            "text/plain": [
              "<Figure size 432x288 with 1 Axes>"
            ]
          },
          "metadata": {
            "tags": []
          }
        },
        {
          "output_type": "stream",
          "text": [
            "Test RMSE: 26.470\n"
          ],
          "name": "stdout"
        }
      ]
    }
  ]
}